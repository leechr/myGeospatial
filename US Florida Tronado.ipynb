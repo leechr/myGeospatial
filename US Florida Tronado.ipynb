{
 "cells": [
  {
   "cell_type": "markdown",
   "metadata": {},
   "source": [
    "### Intro Geospatial PYthon"
   ]
  },
  {
   "cell_type": "markdown",
   "metadata": {},
   "source": [
    " this website provided data for several storms and hurricanes in the States from 1902 to 2018, so there is a ton of available data for you to work later on. For this tutorial, you will only use the Hurricane Florence data\n",
    "\n",
    "You will also use the US map geospatial data from the internet. This blog post by Eric Celeste has all kind of boundary data files for US counties and states. The data used in this tutorial is the US States, 5m, GeoJSON file."
   ]
  },
  {
   "cell_type": "code",
   "execution_count": 4,
   "metadata": {},
   "outputs": [],
   "source": [
    "# Load all importance packages\n",
    "import geopandas\n",
    "import numpy as np\n",
    "import pandas as pd\n",
    "from shapely.geometry import Point\n",
    "\n",
    "import missingno as msn\n",
    "\n",
    "import seaborn as sns\n",
    "import matplotlib.pyplot as plt\n",
    "\n",
    "%matplotlib inline"
   ]
  },
  {
   "cell_type": "code",
   "execution_count": 5,
   "metadata": {},
   "outputs": [
    {
     "data": {
      "text/html": [
       "<div>\n",
       "<style scoped>\n",
       "    .dataframe tbody tr th:only-of-type {\n",
       "        vertical-align: middle;\n",
       "    }\n",
       "\n",
       "    .dataframe tbody tr th {\n",
       "        vertical-align: top;\n",
       "    }\n",
       "\n",
       "    .dataframe thead th {\n",
       "        text-align: right;\n",
       "    }\n",
       "</style>\n",
       "<table border=\"1\" class=\"dataframe\">\n",
       "  <thead>\n",
       "    <tr style=\"text-align: right;\">\n",
       "      <th></th>\n",
       "      <th>GEO_ID</th>\n",
       "      <th>STATE</th>\n",
       "      <th>NAME</th>\n",
       "      <th>LSAD</th>\n",
       "      <th>CENSUSAREA</th>\n",
       "      <th>geometry</th>\n",
       "    </tr>\n",
       "  </thead>\n",
       "  <tbody>\n",
       "    <tr>\n",
       "      <th>0</th>\n",
       "      <td>0400000US01</td>\n",
       "      <td>01</td>\n",
       "      <td>Alabama</td>\n",
       "      <td></td>\n",
       "      <td>50645.326</td>\n",
       "      <td>(POLYGON ((-88.124658 30.28364, -88.0868119999...</td>\n",
       "    </tr>\n",
       "    <tr>\n",
       "      <th>1</th>\n",
       "      <td>0400000US02</td>\n",
       "      <td>02</td>\n",
       "      <td>Alaska</td>\n",
       "      <td></td>\n",
       "      <td>570640.950</td>\n",
       "      <td>(POLYGON ((-166.10574 53.988606, -166.075283 5...</td>\n",
       "    </tr>\n",
       "    <tr>\n",
       "      <th>2</th>\n",
       "      <td>0400000US04</td>\n",
       "      <td>04</td>\n",
       "      <td>Arizona</td>\n",
       "      <td></td>\n",
       "      <td>113594.084</td>\n",
       "      <td>POLYGON ((-112.538593 37.000674, -112.534545 3...</td>\n",
       "    </tr>\n",
       "    <tr>\n",
       "      <th>3</th>\n",
       "      <td>0400000US05</td>\n",
       "      <td>05</td>\n",
       "      <td>Arkansas</td>\n",
       "      <td></td>\n",
       "      <td>52035.477</td>\n",
       "      <td>POLYGON ((-94.042964 33.019219, -94.043036 33....</td>\n",
       "    </tr>\n",
       "    <tr>\n",
       "      <th>4</th>\n",
       "      <td>0400000US06</td>\n",
       "      <td>06</td>\n",
       "      <td>California</td>\n",
       "      <td></td>\n",
       "      <td>155779.220</td>\n",
       "      <td>(POLYGON ((-122.421439 37.869969, -122.421341 ...</td>\n",
       "    </tr>\n",
       "  </tbody>\n",
       "</table>\n",
       "</div>"
      ],
      "text/plain": [
       "        GEO_ID STATE        NAME LSAD  CENSUSAREA  \\\n",
       "0  0400000US01    01     Alabama        50645.326   \n",
       "1  0400000US02    02      Alaska       570640.950   \n",
       "2  0400000US04    04     Arizona       113594.084   \n",
       "3  0400000US05    05    Arkansas        52035.477   \n",
       "4  0400000US06    06  California       155779.220   \n",
       "\n",
       "                                            geometry  \n",
       "0  (POLYGON ((-88.124658 30.28364, -88.0868119999...  \n",
       "1  (POLYGON ((-166.10574 53.988606, -166.075283 5...  \n",
       "2  POLYGON ((-112.538593 37.000674, -112.534545 3...  \n",
       "3  POLYGON ((-94.042964 33.019219, -94.043036 33....  \n",
       "4  (POLYGON ((-122.421439 37.869969, -122.421341 ...  "
      ]
     },
     "execution_count": 5,
     "metadata": {},
     "output_type": "execute_result"
    }
   ],
   "source": [
    "# Getting to know GEOJSON file:\n",
    "# http://eric.clst.org/tech/usgeojson/\n",
    "country = geopandas.read_file(\"data/gz_2010_us_040_00_5m.json\")\n",
    "country.head()"
   ]
  },
  {
   "cell_type": "code",
   "execution_count": 6,
   "metadata": {},
   "outputs": [
    {
     "data": {
      "text/plain": [
       "geopandas.geodataframe.GeoDataFrame"
      ]
     },
     "execution_count": 6,
     "metadata": {},
     "output_type": "execute_result"
    }
   ],
   "source": [
    "type(country)"
   ]
  },
  {
   "cell_type": "code",
   "execution_count": 7,
   "metadata": {},
   "outputs": [
    {
     "data": {
      "text/plain": [
       "geopandas.geoseries.GeoSeries"
      ]
     },
     "execution_count": 7,
     "metadata": {},
     "output_type": "execute_result"
    }
   ],
   "source": [
    "# VChecking the data type of the column containing coordinates: it's GeoSeries.\n",
    "type(country.geometry)\n"
   ]
  },
  {
   "cell_type": "markdown",
   "metadata": {},
   "source": [
    "Each object can be used for a different type of physical object such as: Point for building, Line for Street, Polygon for city, and MultiPolygon for country with multiple cities inside. For more information about each Geometric object, read this article: https://shapely.readthedocs.io/en/stable/manual.html#geometric-objects"
   ]
  },
  {
   "cell_type": "code",
   "execution_count": 8,
   "metadata": {},
   "outputs": [
    {
     "data": {
      "text/plain": [
       "shapely.geometry.multipolygon.MultiPolygon"
      ]
     },
     "execution_count": 8,
     "metadata": {},
     "output_type": "execute_result"
    }
   ],
   "source": [
    "type(country.geometry[0])"
   ]
  },
  {
   "cell_type": "code",
   "execution_count": 9,
   "metadata": {},
   "outputs": [
    {
     "data": {
      "text/plain": [
       "<matplotlib.axes._subplots.AxesSubplot at 0x15aa57fa5c0>"
      ]
     },
     "execution_count": 9,
     "metadata": {},
     "output_type": "execute_result"
    },
    {
     "data": {
      "image/png": "[encoded data removed]",
      "text/plain": [
       "<Figure size 432x288 with 1 Axes>"
      ]
     },
     "metadata": {
      "needs_background": "light"
     },
     "output_type": "display_data"
    }
   ],
   "source": [
    "country.plot()"
   ]
  },
  {
   "cell_type": "code",
   "execution_count": 10,
   "metadata": {},
   "outputs": [
    {
     "data": {
      "image/png": "[encoded data removed]",
      "text/plain": [
       "<Figure size 2160x1440 with 1 Axes>"
      ]
     },
     "metadata": {
      "needs_background": "light"
     },
     "output_type": "display_data"
    }
   ],
   "source": [
    "# Exclude Alaska and Hawaii for now\n",
    "country[country['NAME'].isin(['Alaska','Hawaii']) == False].plot(figsize=(30,20), color='#3B3C6E');"
   ]
  },
  {
   "cell_type": "code",
   "execution_count": 11,
   "metadata": {},
   "outputs": [
    {
     "data": {
      "text/html": [
       "<div>\n",
       "<style scoped>\n",
       "    .dataframe tbody tr th:only-of-type {\n",
       "        vertical-align: middle;\n",
       "    }\n",
       "\n",
       "    .dataframe tbody tr th {\n",
       "        vertical-align: top;\n",
       "    }\n",
       "\n",
       "    .dataframe thead th {\n",
       "        text-align: right;\n",
       "    }\n",
       "</style>\n",
       "<table border=\"1\" class=\"dataframe\">\n",
       "  <thead>\n",
       "    <tr style=\"text-align: right;\">\n",
       "      <th></th>\n",
       "      <th>AdvisoryNumber</th>\n",
       "      <th>Date</th>\n",
       "      <th>Lat</th>\n",
       "      <th>Long</th>\n",
       "      <th>Wind</th>\n",
       "      <th>Pres</th>\n",
       "      <th>Movement</th>\n",
       "      <th>Type</th>\n",
       "      <th>Name</th>\n",
       "      <th>Received</th>\n",
       "      <th>Forecaster</th>\n",
       "    </tr>\n",
       "  </thead>\n",
       "  <tbody>\n",
       "    <tr>\n",
       "      <th>0</th>\n",
       "      <td>1</td>\n",
       "      <td>08/30/2018 11:00</td>\n",
       "      <td>12.9</td>\n",
       "      <td>18.4</td>\n",
       "      <td>30</td>\n",
       "      <td>1007</td>\n",
       "      <td>W at 12 MPH (280 deg)</td>\n",
       "      <td>Potential Tropical Cyclone</td>\n",
       "      <td>Six</td>\n",
       "      <td>08/30/2018 10:45</td>\n",
       "      <td>Avila</td>\n",
       "    </tr>\n",
       "    <tr>\n",
       "      <th>1</th>\n",
       "      <td>1A</td>\n",
       "      <td>08/30/2018 14:00</td>\n",
       "      <td>12.9</td>\n",
       "      <td>19.0</td>\n",
       "      <td>30</td>\n",
       "      <td>1007</td>\n",
       "      <td>W at 12 MPH (280 deg)</td>\n",
       "      <td>Potential Tropical Cyclone</td>\n",
       "      <td>Six</td>\n",
       "      <td>08/30/2018 13:36</td>\n",
       "      <td>Avila</td>\n",
       "    </tr>\n",
       "    <tr>\n",
       "      <th>2</th>\n",
       "      <td>2</td>\n",
       "      <td>08/30/2018 17:00</td>\n",
       "      <td>12.9</td>\n",
       "      <td>19.4</td>\n",
       "      <td>30</td>\n",
       "      <td>1007</td>\n",
       "      <td>W at 9 MPH (280 deg)</td>\n",
       "      <td>Potential Tropical Cyclone</td>\n",
       "      <td>Six</td>\n",
       "      <td>08/30/2018 16:36</td>\n",
       "      <td>Avila</td>\n",
       "    </tr>\n",
       "    <tr>\n",
       "      <th>3</th>\n",
       "      <td>2A</td>\n",
       "      <td>08/30/2018 20:00</td>\n",
       "      <td>13.1</td>\n",
       "      <td>20.4</td>\n",
       "      <td>30</td>\n",
       "      <td>1007</td>\n",
       "      <td>W at 11 MPH (280 deg)</td>\n",
       "      <td>Potential Tropical Cyclone</td>\n",
       "      <td>Six</td>\n",
       "      <td>08/30/2018 19:44</td>\n",
       "      <td>Beven</td>\n",
       "    </tr>\n",
       "    <tr>\n",
       "      <th>4</th>\n",
       "      <td>3</td>\n",
       "      <td>08/30/2018 23:00</td>\n",
       "      <td>13.2</td>\n",
       "      <td>20.9</td>\n",
       "      <td>35</td>\n",
       "      <td>1007</td>\n",
       "      <td>W at 13 MPH (280 deg)</td>\n",
       "      <td>Potential Tropical Cyclone</td>\n",
       "      <td>Six</td>\n",
       "      <td>08/30/2018 22:42</td>\n",
       "      <td>Beven</td>\n",
       "    </tr>\n",
       "  </tbody>\n",
       "</table>\n",
       "</div>"
      ],
      "text/plain": [
       "  AdvisoryNumber              Date   Lat  Long  Wind  Pres  \\\n",
       "0              1  08/30/2018 11:00  12.9  18.4    30  1007   \n",
       "1             1A  08/30/2018 14:00  12.9  19.0    30  1007   \n",
       "2              2  08/30/2018 17:00  12.9  19.4    30  1007   \n",
       "3             2A  08/30/2018 20:00  13.1  20.4    30  1007   \n",
       "4              3  08/30/2018 23:00  13.2  20.9    35  1007   \n",
       "\n",
       "                Movement                        Type Name          Received  \\\n",
       "0  W at 12 MPH (280 deg)  Potential Tropical Cyclone  Six  08/30/2018 10:45   \n",
       "1  W at 12 MPH (280 deg)  Potential Tropical Cyclone  Six  08/30/2018 13:36   \n",
       "2   W at 9 MPH (280 deg)  Potential Tropical Cyclone  Six  08/30/2018 16:36   \n",
       "3  W at 11 MPH (280 deg)  Potential Tropical Cyclone  Six  08/30/2018 19:44   \n",
       "4  W at 13 MPH (280 deg)  Potential Tropical Cyclone  Six  08/30/2018 22:42   \n",
       "\n",
       "  Forecaster  \n",
       "0      Avila  \n",
       "1      Avila  \n",
       "2      Avila  \n",
       "3      Beven  \n",
       "4      Beven  "
      ]
     },
     "execution_count": 11,
     "metadata": {},
     "output_type": "execute_result"
    }
   ],
   "source": [
    "florence = pd.read_csv('data/florence.csv')\n",
    "florence.head()"
   ]
  },
  {
   "cell_type": "code",
   "execution_count": 12,
   "metadata": {},
   "outputs": [
    {
     "name": "stdout",
     "output_type": "stream",
     "text": [
      "<class 'pandas.core.frame.DataFrame'>\n",
      "RangeIndex: 105 entries, 0 to 104\n",
      "Data columns (total 11 columns):\n",
      "AdvisoryNumber    105 non-null object\n",
      "Date              105 non-null object\n",
      "Lat               105 non-null float64\n",
      "Long              105 non-null float64\n",
      "Wind              105 non-null int64\n",
      "Pres              105 non-null int64\n",
      "Movement          105 non-null object\n",
      "Type              105 non-null object\n",
      "Name              105 non-null object\n",
      "Received          105 non-null object\n",
      "Forecaster        104 non-null object\n",
      "dtypes: float64(2), int64(2), object(7)\n",
      "memory usage: 9.1+ KB\n"
     ]
    }
   ],
   "source": [
    "florence.info()"
   ]
  },
  {
   "cell_type": "code",
   "execution_count": 15,
   "metadata": {},
   "outputs": [
    {
     "data": {
      "text/plain": [
       "(105, 11)"
      ]
     },
     "execution_count": 15,
     "metadata": {},
     "output_type": "execute_result"
    }
   ],
   "source": [
    "florence.shape"
   ]
  },
  {
   "cell_type": "code",
   "execution_count": 13,
   "metadata": {},
   "outputs": [
    {
     "data": {
      "image/png": "[encoded data removed]",
      "text/plain": [
       "<Figure size 1728x720 with 3 Axes>"
      ]
     },
     "metadata": {
      "needs_background": "light"
     },
     "output_type": "display_data"
    }
   ],
   "source": [
    "# Notice you can always adjust the color of the visualization\n",
    "msn.bar(florence, color='darkolivegreen');"
   ]
  },
  {
   "cell_type": "code",
   "execution_count": 16,
   "metadata": {},
   "outputs": [
    {
     "data": {
      "text/html": [
       "<div>\n",
       "<style scoped>\n",
       "    .dataframe tbody tr th:only-of-type {\n",
       "        vertical-align: middle;\n",
       "    }\n",
       "\n",
       "    .dataframe tbody tr th {\n",
       "        vertical-align: top;\n",
       "    }\n",
       "\n",
       "    .dataframe thead th {\n",
       "        text-align: right;\n",
       "    }\n",
       "</style>\n",
       "<table border=\"1\" class=\"dataframe\">\n",
       "  <thead>\n",
       "    <tr style=\"text-align: right;\">\n",
       "      <th></th>\n",
       "      <th>Lat</th>\n",
       "      <th>Long</th>\n",
       "      <th>Wind</th>\n",
       "      <th>Pres</th>\n",
       "    </tr>\n",
       "  </thead>\n",
       "  <tbody>\n",
       "    <tr>\n",
       "      <th>count</th>\n",
       "      <td>105.000000</td>\n",
       "      <td>105.000000</td>\n",
       "      <td>105.000000</td>\n",
       "      <td>105.000000</td>\n",
       "    </tr>\n",
       "    <tr>\n",
       "      <th>mean</th>\n",
       "      <td>25.931429</td>\n",
       "      <td>56.938095</td>\n",
       "      <td>74.428571</td>\n",
       "      <td>981.571429</td>\n",
       "    </tr>\n",
       "    <tr>\n",
       "      <th>std</th>\n",
       "      <td>7.975917</td>\n",
       "      <td>20.878865</td>\n",
       "      <td>36.560765</td>\n",
       "      <td>22.780667</td>\n",
       "    </tr>\n",
       "    <tr>\n",
       "      <th>min</th>\n",
       "      <td>12.900000</td>\n",
       "      <td>18.400000</td>\n",
       "      <td>25.000000</td>\n",
       "      <td>939.000000</td>\n",
       "    </tr>\n",
       "    <tr>\n",
       "      <th>25%</th>\n",
       "      <td>18.900000</td>\n",
       "      <td>41.000000</td>\n",
       "      <td>40.000000</td>\n",
       "      <td>956.000000</td>\n",
       "    </tr>\n",
       "    <tr>\n",
       "      <th>50%</th>\n",
       "      <td>25.100000</td>\n",
       "      <td>60.000000</td>\n",
       "      <td>70.000000</td>\n",
       "      <td>989.000000</td>\n",
       "    </tr>\n",
       "    <tr>\n",
       "      <th>75%</th>\n",
       "      <td>33.600000</td>\n",
       "      <td>76.400000</td>\n",
       "      <td>105.000000</td>\n",
       "      <td>1002.000000</td>\n",
       "    </tr>\n",
       "    <tr>\n",
       "      <th>max</th>\n",
       "      <td>42.600000</td>\n",
       "      <td>82.900000</td>\n",
       "      <td>140.000000</td>\n",
       "      <td>1008.000000</td>\n",
       "    </tr>\n",
       "  </tbody>\n",
       "</table>\n",
       "</div>"
      ],
      "text/plain": [
       "              Lat        Long        Wind         Pres\n",
       "count  105.000000  105.000000  105.000000   105.000000\n",
       "mean    25.931429   56.938095   74.428571   981.571429\n",
       "std      7.975917   20.878865   36.560765    22.780667\n",
       "min     12.900000   18.400000   25.000000   939.000000\n",
       "25%     18.900000   41.000000   40.000000   956.000000\n",
       "50%     25.100000   60.000000   70.000000   989.000000\n",
       "75%     33.600000   76.400000  105.000000  1002.000000\n",
       "max     42.600000   82.900000  140.000000  1008.000000"
      ]
     },
     "execution_count": 16,
     "metadata": {},
     "output_type": "execute_result"
    }
   ],
   "source": [
    "# Statistical information\n",
    "florence.describe()"
   ]
  },
  {
   "cell_type": "markdown",
   "metadata": {},
   "source": [
    "For most data, you will need to clean up and take only what you need to work on. Here, you only need the time, the coordinates: latitude and longitude, Wind speed, Pressure, and Name. Movement and Type are optional, but the rest could be dropped."
   ]
  },
  {
   "cell_type": "code",
   "execution_count": 17,
   "metadata": {},
   "outputs": [
    {
     "data": {
      "text/html": [
       "<div>\n",
       "<style scoped>\n",
       "    .dataframe tbody tr th:only-of-type {\n",
       "        vertical-align: middle;\n",
       "    }\n",
       "\n",
       "    .dataframe tbody tr th {\n",
       "        vertical-align: top;\n",
       "    }\n",
       "\n",
       "    .dataframe thead th {\n",
       "        text-align: right;\n",
       "    }\n",
       "</style>\n",
       "<table border=\"1\" class=\"dataframe\">\n",
       "  <thead>\n",
       "    <tr style=\"text-align: right;\">\n",
       "      <th></th>\n",
       "      <th>Date</th>\n",
       "      <th>Lat</th>\n",
       "      <th>Long</th>\n",
       "      <th>Wind</th>\n",
       "      <th>Pres</th>\n",
       "      <th>Movement</th>\n",
       "      <th>Type</th>\n",
       "      <th>Name</th>\n",
       "    </tr>\n",
       "  </thead>\n",
       "  <tbody>\n",
       "    <tr>\n",
       "      <th>0</th>\n",
       "      <td>08/30/2018 11:00</td>\n",
       "      <td>12.9</td>\n",
       "      <td>18.4</td>\n",
       "      <td>30</td>\n",
       "      <td>1007</td>\n",
       "      <td>W at 12 MPH (280 deg)</td>\n",
       "      <td>Potential Tropical Cyclone</td>\n",
       "      <td>Six</td>\n",
       "    </tr>\n",
       "    <tr>\n",
       "      <th>1</th>\n",
       "      <td>08/30/2018 14:00</td>\n",
       "      <td>12.9</td>\n",
       "      <td>19.0</td>\n",
       "      <td>30</td>\n",
       "      <td>1007</td>\n",
       "      <td>W at 12 MPH (280 deg)</td>\n",
       "      <td>Potential Tropical Cyclone</td>\n",
       "      <td>Six</td>\n",
       "    </tr>\n",
       "    <tr>\n",
       "      <th>2</th>\n",
       "      <td>08/30/2018 17:00</td>\n",
       "      <td>12.9</td>\n",
       "      <td>19.4</td>\n",
       "      <td>30</td>\n",
       "      <td>1007</td>\n",
       "      <td>W at 9 MPH (280 deg)</td>\n",
       "      <td>Potential Tropical Cyclone</td>\n",
       "      <td>Six</td>\n",
       "    </tr>\n",
       "    <tr>\n",
       "      <th>3</th>\n",
       "      <td>08/30/2018 20:00</td>\n",
       "      <td>13.1</td>\n",
       "      <td>20.4</td>\n",
       "      <td>30</td>\n",
       "      <td>1007</td>\n",
       "      <td>W at 11 MPH (280 deg)</td>\n",
       "      <td>Potential Tropical Cyclone</td>\n",
       "      <td>Six</td>\n",
       "    </tr>\n",
       "    <tr>\n",
       "      <th>4</th>\n",
       "      <td>08/30/2018 23:00</td>\n",
       "      <td>13.2</td>\n",
       "      <td>20.9</td>\n",
       "      <td>35</td>\n",
       "      <td>1007</td>\n",
       "      <td>W at 13 MPH (280 deg)</td>\n",
       "      <td>Potential Tropical Cyclone</td>\n",
       "      <td>Six</td>\n",
       "    </tr>\n",
       "  </tbody>\n",
       "</table>\n",
       "</div>"
      ],
      "text/plain": [
       "               Date   Lat  Long  Wind  Pres               Movement  \\\n",
       "0  08/30/2018 11:00  12.9  18.4    30  1007  W at 12 MPH (280 deg)   \n",
       "1  08/30/2018 14:00  12.9  19.0    30  1007  W at 12 MPH (280 deg)   \n",
       "2  08/30/2018 17:00  12.9  19.4    30  1007   W at 9 MPH (280 deg)   \n",
       "3  08/30/2018 20:00  13.1  20.4    30  1007  W at 11 MPH (280 deg)   \n",
       "4  08/30/2018 23:00  13.2  20.9    35  1007  W at 13 MPH (280 deg)   \n",
       "\n",
       "                         Type Name  \n",
       "0  Potential Tropical Cyclone  Six  \n",
       "1  Potential Tropical Cyclone  Six  \n",
       "2  Potential Tropical Cyclone  Six  \n",
       "3  Potential Tropical Cyclone  Six  \n",
       "4  Potential Tropical Cyclone  Six  "
      ]
     },
     "execution_count": 17,
     "metadata": {},
     "output_type": "execute_result"
    }
   ],
   "source": [
    "# dropping all unused features:\n",
    "florence = florence.drop(['AdvisoryNumber', 'Forecaster', 'Received'], axis=1)\n",
    "florence.head()"
   ]
  },
  {
   "cell_type": "code",
   "execution_count": 18,
   "metadata": {},
   "outputs": [
    {
     "data": {
      "text/html": [
       "<div>\n",
       "<style scoped>\n",
       "    .dataframe tbody tr th:only-of-type {\n",
       "        vertical-align: middle;\n",
       "    }\n",
       "\n",
       "    .dataframe tbody tr th {\n",
       "        vertical-align: top;\n",
       "    }\n",
       "\n",
       "    .dataframe thead th {\n",
       "        text-align: right;\n",
       "    }\n",
       "</style>\n",
       "<table border=\"1\" class=\"dataframe\">\n",
       "  <thead>\n",
       "    <tr style=\"text-align: right;\">\n",
       "      <th></th>\n",
       "      <th>Date</th>\n",
       "      <th>Lat</th>\n",
       "      <th>Long</th>\n",
       "      <th>Wind</th>\n",
       "      <th>Pres</th>\n",
       "      <th>Movement</th>\n",
       "      <th>Type</th>\n",
       "      <th>Name</th>\n",
       "    </tr>\n",
       "  </thead>\n",
       "  <tbody>\n",
       "    <tr>\n",
       "      <th>0</th>\n",
       "      <td>08/30/2018 11:00</td>\n",
       "      <td>12.9</td>\n",
       "      <td>-18.4</td>\n",
       "      <td>30</td>\n",
       "      <td>1007</td>\n",
       "      <td>W at 12 MPH (280 deg)</td>\n",
       "      <td>Potential Tropical Cyclone</td>\n",
       "      <td>Six</td>\n",
       "    </tr>\n",
       "    <tr>\n",
       "      <th>1</th>\n",
       "      <td>08/30/2018 14:00</td>\n",
       "      <td>12.9</td>\n",
       "      <td>-19.0</td>\n",
       "      <td>30</td>\n",
       "      <td>1007</td>\n",
       "      <td>W at 12 MPH (280 deg)</td>\n",
       "      <td>Potential Tropical Cyclone</td>\n",
       "      <td>Six</td>\n",
       "    </tr>\n",
       "    <tr>\n",
       "      <th>2</th>\n",
       "      <td>08/30/2018 17:00</td>\n",
       "      <td>12.9</td>\n",
       "      <td>-19.4</td>\n",
       "      <td>30</td>\n",
       "      <td>1007</td>\n",
       "      <td>W at 9 MPH (280 deg)</td>\n",
       "      <td>Potential Tropical Cyclone</td>\n",
       "      <td>Six</td>\n",
       "    </tr>\n",
       "    <tr>\n",
       "      <th>3</th>\n",
       "      <td>08/30/2018 20:00</td>\n",
       "      <td>13.1</td>\n",
       "      <td>-20.4</td>\n",
       "      <td>30</td>\n",
       "      <td>1007</td>\n",
       "      <td>W at 11 MPH (280 deg)</td>\n",
       "      <td>Potential Tropical Cyclone</td>\n",
       "      <td>Six</td>\n",
       "    </tr>\n",
       "    <tr>\n",
       "      <th>4</th>\n",
       "      <td>08/30/2018 23:00</td>\n",
       "      <td>13.2</td>\n",
       "      <td>-20.9</td>\n",
       "      <td>35</td>\n",
       "      <td>1007</td>\n",
       "      <td>W at 13 MPH (280 deg)</td>\n",
       "      <td>Potential Tropical Cyclone</td>\n",
       "      <td>Six</td>\n",
       "    </tr>\n",
       "  </tbody>\n",
       "</table>\n",
       "</div>"
      ],
      "text/plain": [
       "               Date   Lat  Long  Wind  Pres               Movement  \\\n",
       "0  08/30/2018 11:00  12.9 -18.4    30  1007  W at 12 MPH (280 deg)   \n",
       "1  08/30/2018 14:00  12.9 -19.0    30  1007  W at 12 MPH (280 deg)   \n",
       "2  08/30/2018 17:00  12.9 -19.4    30  1007   W at 9 MPH (280 deg)   \n",
       "3  08/30/2018 20:00  13.1 -20.4    30  1007  W at 11 MPH (280 deg)   \n",
       "4  08/30/2018 23:00  13.2 -20.9    35  1007  W at 13 MPH (280 deg)   \n",
       "\n",
       "                         Type Name  \n",
       "0  Potential Tropical Cyclone  Six  \n",
       "1  Potential Tropical Cyclone  Six  \n",
       "2  Potential Tropical Cyclone  Six  \n",
       "3  Potential Tropical Cyclone  Six  \n",
       "4  Potential Tropical Cyclone  Six  "
      ]
     },
     "execution_count": 18,
     "metadata": {},
     "output_type": "execute_result"
    }
   ],
   "source": [
    "# Add \"-\" in front of the number to correctly plot the data:\n",
    "florence['Long'] = 0 - florence['Long']\n",
    "florence.head()"
   ]
  },
  {
   "cell_type": "markdown",
   "metadata": {},
   "source": [
    "Then you can combine Lattitude and Longitude to create hurricane coordinates, which will subsequently be turned into GeoPoint for visualization purpose."
   ]
  },
  {
   "cell_type": "code",
   "execution_count": 19,
   "metadata": {},
   "outputs": [
    {
     "data": {
      "text/html": [
       "<div>\n",
       "<style scoped>\n",
       "    .dataframe tbody tr th:only-of-type {\n",
       "        vertical-align: middle;\n",
       "    }\n",
       "\n",
       "    .dataframe tbody tr th {\n",
       "        vertical-align: top;\n",
       "    }\n",
       "\n",
       "    .dataframe thead th {\n",
       "        text-align: right;\n",
       "    }\n",
       "</style>\n",
       "<table border=\"1\" class=\"dataframe\">\n",
       "  <thead>\n",
       "    <tr style=\"text-align: right;\">\n",
       "      <th></th>\n",
       "      <th>Date</th>\n",
       "      <th>Lat</th>\n",
       "      <th>Long</th>\n",
       "      <th>Wind</th>\n",
       "      <th>Pres</th>\n",
       "      <th>Movement</th>\n",
       "      <th>Type</th>\n",
       "      <th>Name</th>\n",
       "      <th>coordinates</th>\n",
       "    </tr>\n",
       "  </thead>\n",
       "  <tbody>\n",
       "    <tr>\n",
       "      <th>0</th>\n",
       "      <td>08/30/2018 11:00</td>\n",
       "      <td>12.9</td>\n",
       "      <td>-18.4</td>\n",
       "      <td>30</td>\n",
       "      <td>1007</td>\n",
       "      <td>W at 12 MPH (280 deg)</td>\n",
       "      <td>Potential Tropical Cyclone</td>\n",
       "      <td>Six</td>\n",
       "      <td>[-18.4, 12.9]</td>\n",
       "    </tr>\n",
       "    <tr>\n",
       "      <th>1</th>\n",
       "      <td>08/30/2018 14:00</td>\n",
       "      <td>12.9</td>\n",
       "      <td>-19.0</td>\n",
       "      <td>30</td>\n",
       "      <td>1007</td>\n",
       "      <td>W at 12 MPH (280 deg)</td>\n",
       "      <td>Potential Tropical Cyclone</td>\n",
       "      <td>Six</td>\n",
       "      <td>[-19.0, 12.9]</td>\n",
       "    </tr>\n",
       "    <tr>\n",
       "      <th>2</th>\n",
       "      <td>08/30/2018 17:00</td>\n",
       "      <td>12.9</td>\n",
       "      <td>-19.4</td>\n",
       "      <td>30</td>\n",
       "      <td>1007</td>\n",
       "      <td>W at 9 MPH (280 deg)</td>\n",
       "      <td>Potential Tropical Cyclone</td>\n",
       "      <td>Six</td>\n",
       "      <td>[-19.4, 12.9]</td>\n",
       "    </tr>\n",
       "    <tr>\n",
       "      <th>3</th>\n",
       "      <td>08/30/2018 20:00</td>\n",
       "      <td>13.1</td>\n",
       "      <td>-20.4</td>\n",
       "      <td>30</td>\n",
       "      <td>1007</td>\n",
       "      <td>W at 11 MPH (280 deg)</td>\n",
       "      <td>Potential Tropical Cyclone</td>\n",
       "      <td>Six</td>\n",
       "      <td>[-20.4, 13.1]</td>\n",
       "    </tr>\n",
       "    <tr>\n",
       "      <th>4</th>\n",
       "      <td>08/30/2018 23:00</td>\n",
       "      <td>13.2</td>\n",
       "      <td>-20.9</td>\n",
       "      <td>35</td>\n",
       "      <td>1007</td>\n",
       "      <td>W at 13 MPH (280 deg)</td>\n",
       "      <td>Potential Tropical Cyclone</td>\n",
       "      <td>Six</td>\n",
       "      <td>[-20.9, 13.2]</td>\n",
       "    </tr>\n",
       "  </tbody>\n",
       "</table>\n",
       "</div>"
      ],
      "text/plain": [
       "               Date   Lat  Long  Wind  Pres               Movement  \\\n",
       "0  08/30/2018 11:00  12.9 -18.4    30  1007  W at 12 MPH (280 deg)   \n",
       "1  08/30/2018 14:00  12.9 -19.0    30  1007  W at 12 MPH (280 deg)   \n",
       "2  08/30/2018 17:00  12.9 -19.4    30  1007   W at 9 MPH (280 deg)   \n",
       "3  08/30/2018 20:00  13.1 -20.4    30  1007  W at 11 MPH (280 deg)   \n",
       "4  08/30/2018 23:00  13.2 -20.9    35  1007  W at 13 MPH (280 deg)   \n",
       "\n",
       "                         Type Name    coordinates  \n",
       "0  Potential Tropical Cyclone  Six  [-18.4, 12.9]  \n",
       "1  Potential Tropical Cyclone  Six  [-19.0, 12.9]  \n",
       "2  Potential Tropical Cyclone  Six  [-19.4, 12.9]  \n",
       "3  Potential Tropical Cyclone  Six  [-20.4, 13.1]  \n",
       "4  Potential Tropical Cyclone  Six  [-20.9, 13.2]  "
      ]
     },
     "execution_count": 19,
     "metadata": {},
     "output_type": "execute_result"
    }
   ],
   "source": [
    "# Combining Lattitude and Longitude to create hurricane coordinates:\n",
    "florence['coordinates'] = florence[['Long', 'Lat']].values.tolist()\n",
    "florence.head()"
   ]
  },
  {
   "cell_type": "code",
   "execution_count": 20,
   "metadata": {},
   "outputs": [
    {
     "data": {
      "text/html": [
       "<div>\n",
       "<style scoped>\n",
       "    .dataframe tbody tr th:only-of-type {\n",
       "        vertical-align: middle;\n",
       "    }\n",
       "\n",
       "    .dataframe tbody tr th {\n",
       "        vertical-align: top;\n",
       "    }\n",
       "\n",
       "    .dataframe thead th {\n",
       "        text-align: right;\n",
       "    }\n",
       "</style>\n",
       "<table border=\"1\" class=\"dataframe\">\n",
       "  <thead>\n",
       "    <tr style=\"text-align: right;\">\n",
       "      <th></th>\n",
       "      <th>Date</th>\n",
       "      <th>Lat</th>\n",
       "      <th>Long</th>\n",
       "      <th>Wind</th>\n",
       "      <th>Pres</th>\n",
       "      <th>Movement</th>\n",
       "      <th>Type</th>\n",
       "      <th>Name</th>\n",
       "      <th>coordinates</th>\n",
       "    </tr>\n",
       "  </thead>\n",
       "  <tbody>\n",
       "    <tr>\n",
       "      <th>0</th>\n",
       "      <td>08/30/2018 11:00</td>\n",
       "      <td>12.9</td>\n",
       "      <td>-18.4</td>\n",
       "      <td>30</td>\n",
       "      <td>1007</td>\n",
       "      <td>W at 12 MPH (280 deg)</td>\n",
       "      <td>Potential Tropical Cyclone</td>\n",
       "      <td>Six</td>\n",
       "      <td>POINT (-18.4 12.9)</td>\n",
       "    </tr>\n",
       "    <tr>\n",
       "      <th>1</th>\n",
       "      <td>08/30/2018 14:00</td>\n",
       "      <td>12.9</td>\n",
       "      <td>-19.0</td>\n",
       "      <td>30</td>\n",
       "      <td>1007</td>\n",
       "      <td>W at 12 MPH (280 deg)</td>\n",
       "      <td>Potential Tropical Cyclone</td>\n",
       "      <td>Six</td>\n",
       "      <td>POINT (-19 12.9)</td>\n",
       "    </tr>\n",
       "    <tr>\n",
       "      <th>2</th>\n",
       "      <td>08/30/2018 17:00</td>\n",
       "      <td>12.9</td>\n",
       "      <td>-19.4</td>\n",
       "      <td>30</td>\n",
       "      <td>1007</td>\n",
       "      <td>W at 9 MPH (280 deg)</td>\n",
       "      <td>Potential Tropical Cyclone</td>\n",
       "      <td>Six</td>\n",
       "      <td>POINT (-19.4 12.9)</td>\n",
       "    </tr>\n",
       "    <tr>\n",
       "      <th>3</th>\n",
       "      <td>08/30/2018 20:00</td>\n",
       "      <td>13.1</td>\n",
       "      <td>-20.4</td>\n",
       "      <td>30</td>\n",
       "      <td>1007</td>\n",
       "      <td>W at 11 MPH (280 deg)</td>\n",
       "      <td>Potential Tropical Cyclone</td>\n",
       "      <td>Six</td>\n",
       "      <td>POINT (-20.4 13.1)</td>\n",
       "    </tr>\n",
       "    <tr>\n",
       "      <th>4</th>\n",
       "      <td>08/30/2018 23:00</td>\n",
       "      <td>13.2</td>\n",
       "      <td>-20.9</td>\n",
       "      <td>35</td>\n",
       "      <td>1007</td>\n",
       "      <td>W at 13 MPH (280 deg)</td>\n",
       "      <td>Potential Tropical Cyclone</td>\n",
       "      <td>Six</td>\n",
       "      <td>POINT (-20.9 13.2)</td>\n",
       "    </tr>\n",
       "  </tbody>\n",
       "</table>\n",
       "</div>"
      ],
      "text/plain": [
       "               Date   Lat  Long  Wind  Pres               Movement  \\\n",
       "0  08/30/2018 11:00  12.9 -18.4    30  1007  W at 12 MPH (280 deg)   \n",
       "1  08/30/2018 14:00  12.9 -19.0    30  1007  W at 12 MPH (280 deg)   \n",
       "2  08/30/2018 17:00  12.9 -19.4    30  1007   W at 9 MPH (280 deg)   \n",
       "3  08/30/2018 20:00  13.1 -20.4    30  1007  W at 11 MPH (280 deg)   \n",
       "4  08/30/2018 23:00  13.2 -20.9    35  1007  W at 13 MPH (280 deg)   \n",
       "\n",
       "                         Type Name         coordinates  \n",
       "0  Potential Tropical Cyclone  Six  POINT (-18.4 12.9)  \n",
       "1  Potential Tropical Cyclone  Six    POINT (-19 12.9)  \n",
       "2  Potential Tropical Cyclone  Six  POINT (-19.4 12.9)  \n",
       "3  Potential Tropical Cyclone  Six  POINT (-20.4 13.1)  \n",
       "4  Potential Tropical Cyclone  Six  POINT (-20.9 13.2)  "
      ]
     },
     "execution_count": 20,
     "metadata": {},
     "output_type": "execute_result"
    }
   ],
   "source": [
    "# Change the coordinates to a geoPoint\n",
    "florence['coordinates'] = florence['coordinates'].apply(Point)\n",
    "florence.head()"
   ]
  },
  {
   "cell_type": "code",
   "execution_count": 21,
   "metadata": {},
   "outputs": [
    {
     "data": {
      "text/plain": [
       "pandas.core.frame.DataFrame"
      ]
     },
     "execution_count": 21,
     "metadata": {},
     "output_type": "execute_result"
    }
   ],
   "source": [
    "type(florence)"
   ]
  },
  {
   "cell_type": "code",
   "execution_count": 22,
   "metadata": {},
   "outputs": [
    {
     "data": {
      "text/plain": [
       "pandas.core.series.Series"
      ]
     },
     "execution_count": 22,
     "metadata": {},
     "output_type": "execute_result"
    }
   ],
   "source": [
    "type(florence.coordinates)"
   ]
  },
  {
   "cell_type": "code",
   "execution_count": 23,
   "metadata": {},
   "outputs": [
    {
     "data": {
      "text/html": [
       "<div>\n",
       "<style scoped>\n",
       "    .dataframe tbody tr th:only-of-type {\n",
       "        vertical-align: middle;\n",
       "    }\n",
       "\n",
       "    .dataframe tbody tr th {\n",
       "        vertical-align: top;\n",
       "    }\n",
       "\n",
       "    .dataframe thead th {\n",
       "        text-align: right;\n",
       "    }\n",
       "</style>\n",
       "<table border=\"1\" class=\"dataframe\">\n",
       "  <thead>\n",
       "    <tr style=\"text-align: right;\">\n",
       "      <th></th>\n",
       "      <th>Date</th>\n",
       "      <th>Lat</th>\n",
       "      <th>Long</th>\n",
       "      <th>Wind</th>\n",
       "      <th>Pres</th>\n",
       "      <th>Movement</th>\n",
       "      <th>Type</th>\n",
       "      <th>Name</th>\n",
       "      <th>coordinates</th>\n",
       "    </tr>\n",
       "  </thead>\n",
       "  <tbody>\n",
       "    <tr>\n",
       "      <th>0</th>\n",
       "      <td>08/30/2018 11:00</td>\n",
       "      <td>12.9</td>\n",
       "      <td>-18.4</td>\n",
       "      <td>30</td>\n",
       "      <td>1007</td>\n",
       "      <td>W at 12 MPH (280 deg)</td>\n",
       "      <td>Potential Tropical Cyclone</td>\n",
       "      <td>Six</td>\n",
       "      <td>POINT (-18.4 12.9)</td>\n",
       "    </tr>\n",
       "    <tr>\n",
       "      <th>1</th>\n",
       "      <td>08/30/2018 14:00</td>\n",
       "      <td>12.9</td>\n",
       "      <td>-19.0</td>\n",
       "      <td>30</td>\n",
       "      <td>1007</td>\n",
       "      <td>W at 12 MPH (280 deg)</td>\n",
       "      <td>Potential Tropical Cyclone</td>\n",
       "      <td>Six</td>\n",
       "      <td>POINT (-19 12.9)</td>\n",
       "    </tr>\n",
       "    <tr>\n",
       "      <th>2</th>\n",
       "      <td>08/30/2018 17:00</td>\n",
       "      <td>12.9</td>\n",
       "      <td>-19.4</td>\n",
       "      <td>30</td>\n",
       "      <td>1007</td>\n",
       "      <td>W at 9 MPH (280 deg)</td>\n",
       "      <td>Potential Tropical Cyclone</td>\n",
       "      <td>Six</td>\n",
       "      <td>POINT (-19.4 12.9)</td>\n",
       "    </tr>\n",
       "    <tr>\n",
       "      <th>3</th>\n",
       "      <td>08/30/2018 20:00</td>\n",
       "      <td>13.1</td>\n",
       "      <td>-20.4</td>\n",
       "      <td>30</td>\n",
       "      <td>1007</td>\n",
       "      <td>W at 11 MPH (280 deg)</td>\n",
       "      <td>Potential Tropical Cyclone</td>\n",
       "      <td>Six</td>\n",
       "      <td>POINT (-20.4 13.1)</td>\n",
       "    </tr>\n",
       "    <tr>\n",
       "      <th>4</th>\n",
       "      <td>08/30/2018 23:00</td>\n",
       "      <td>13.2</td>\n",
       "      <td>-20.9</td>\n",
       "      <td>35</td>\n",
       "      <td>1007</td>\n",
       "      <td>W at 13 MPH (280 deg)</td>\n",
       "      <td>Potential Tropical Cyclone</td>\n",
       "      <td>Six</td>\n",
       "      <td>POINT (-20.9 13.2)</td>\n",
       "    </tr>\n",
       "  </tbody>\n",
       "</table>\n",
       "</div>"
      ],
      "text/plain": [
       "               Date   Lat  Long  Wind  Pres               Movement  \\\n",
       "0  08/30/2018 11:00  12.9 -18.4    30  1007  W at 12 MPH (280 deg)   \n",
       "1  08/30/2018 14:00  12.9 -19.0    30  1007  W at 12 MPH (280 deg)   \n",
       "2  08/30/2018 17:00  12.9 -19.4    30  1007   W at 9 MPH (280 deg)   \n",
       "3  08/30/2018 20:00  13.1 -20.4    30  1007  W at 11 MPH (280 deg)   \n",
       "4  08/30/2018 23:00  13.2 -20.9    35  1007  W at 13 MPH (280 deg)   \n",
       "\n",
       "                         Type Name         coordinates  \n",
       "0  Potential Tropical Cyclone  Six  POINT (-18.4 12.9)  \n",
       "1  Potential Tropical Cyclone  Six    POINT (-19 12.9)  \n",
       "2  Potential Tropical Cyclone  Six  POINT (-19.4 12.9)  \n",
       "3  Potential Tropical Cyclone  Six  POINT (-20.4 13.1)  \n",
       "4  Potential Tropical Cyclone  Six  POINT (-20.9 13.2)  "
      ]
     },
     "execution_count": 23,
     "metadata": {},
     "output_type": "execute_result"
    }
   ],
   "source": [
    "# Convert the count df to geodf\n",
    "florence = geopandas.GeoDataFrame(florence, geometry='coordinates')\n",
    "florence.head()"
   ]
  },
  {
   "cell_type": "code",
   "execution_count": 24,
   "metadata": {},
   "outputs": [
    {
     "data": {
      "text/plain": [
       "geopandas.geodataframe.GeoDataFrame"
      ]
     },
     "execution_count": 24,
     "metadata": {},
     "output_type": "execute_result"
    }
   ],
   "source": [
    "type(florence)"
   ]
  },
  {
   "cell_type": "code",
   "execution_count": 25,
   "metadata": {},
   "outputs": [
    {
     "data": {
      "text/plain": [
       "geopandas.geoseries.GeoSeries"
      ]
     },
     "execution_count": 25,
     "metadata": {},
     "output_type": "execute_result"
    }
   ],
   "source": [
    "type(florence.coordinates)"
   ]
  },
  {
   "cell_type": "markdown",
   "metadata": {},
   "source": [
    "Notice that even though it's now a Geo DataFrame and Geo Series, it still behaves like a normal DataFrame and a Series. This means you can still perform filtering, groupby for the dataframe or extract the min, max, or mean values of the column."
   ]
  },
  {
   "cell_type": "code",
   "execution_count": 31,
   "metadata": {},
   "outputs": [
    {
     "data": {
      "text/html": [
       "<div>\n",
       "<style scoped>\n",
       "    .dataframe tbody tr th:only-of-type {\n",
       "        vertical-align: middle;\n",
       "    }\n",
       "\n",
       "    .dataframe tbody tr th {\n",
       "        vertical-align: top;\n",
       "    }\n",
       "\n",
       "    .dataframe thead th {\n",
       "        text-align: right;\n",
       "    }\n",
       "</style>\n",
       "<table border=\"1\" class=\"dataframe\">\n",
       "  <thead>\n",
       "    <tr style=\"text-align: right;\">\n",
       "      <th></th>\n",
       "      <th>Date</th>\n",
       "      <th>Lat</th>\n",
       "      <th>Long</th>\n",
       "      <th>Wind</th>\n",
       "      <th>Pres</th>\n",
       "      <th>Movement</th>\n",
       "      <th>Type</th>\n",
       "      <th>Name</th>\n",
       "      <th>coordinates</th>\n",
       "    </tr>\n",
       "  </thead>\n",
       "  <tbody>\n",
       "    <tr>\n",
       "      <th>0</th>\n",
       "      <td>08/30/2018 11:00</td>\n",
       "      <td>12.9</td>\n",
       "      <td>-18.4</td>\n",
       "      <td>30</td>\n",
       "      <td>1007</td>\n",
       "      <td>W at 12 MPH (280 deg)</td>\n",
       "      <td>Potential Tropical Cyclone</td>\n",
       "      <td>Six</td>\n",
       "      <td>POINT (-18.4 12.9)</td>\n",
       "    </tr>\n",
       "    <tr>\n",
       "      <th>1</th>\n",
       "      <td>08/30/2018 14:00</td>\n",
       "      <td>12.9</td>\n",
       "      <td>-19.0</td>\n",
       "      <td>30</td>\n",
       "      <td>1007</td>\n",
       "      <td>W at 12 MPH (280 deg)</td>\n",
       "      <td>Potential Tropical Cyclone</td>\n",
       "      <td>Six</td>\n",
       "      <td>POINT (-19 12.9)</td>\n",
       "    </tr>\n",
       "    <tr>\n",
       "      <th>2</th>\n",
       "      <td>08/30/2018 17:00</td>\n",
       "      <td>12.9</td>\n",
       "      <td>-19.4</td>\n",
       "      <td>30</td>\n",
       "      <td>1007</td>\n",
       "      <td>W at 9 MPH (280 deg)</td>\n",
       "      <td>Potential Tropical Cyclone</td>\n",
       "      <td>Six</td>\n",
       "      <td>POINT (-19.4 12.9)</td>\n",
       "    </tr>\n",
       "    <tr>\n",
       "      <th>3</th>\n",
       "      <td>08/30/2018 20:00</td>\n",
       "      <td>13.1</td>\n",
       "      <td>-20.4</td>\n",
       "      <td>30</td>\n",
       "      <td>1007</td>\n",
       "      <td>W at 11 MPH (280 deg)</td>\n",
       "      <td>Potential Tropical Cyclone</td>\n",
       "      <td>Six</td>\n",
       "      <td>POINT (-20.4 13.1)</td>\n",
       "    </tr>\n",
       "    <tr>\n",
       "      <th>4</th>\n",
       "      <td>08/30/2018 23:00</td>\n",
       "      <td>13.2</td>\n",
       "      <td>-20.9</td>\n",
       "      <td>35</td>\n",
       "      <td>1007</td>\n",
       "      <td>W at 13 MPH (280 deg)</td>\n",
       "      <td>Potential Tropical Cyclone</td>\n",
       "      <td>Six</td>\n",
       "      <td>POINT (-20.9 13.2)</td>\n",
       "    </tr>\n",
       "    <tr>\n",
       "      <th>5</th>\n",
       "      <td>08/31/2018 02:00</td>\n",
       "      <td>13.4</td>\n",
       "      <td>-21.2</td>\n",
       "      <td>35</td>\n",
       "      <td>1007</td>\n",
       "      <td>W at 13 MPH (280 deg)</td>\n",
       "      <td>Potential Tropical Cyclone</td>\n",
       "      <td>Six</td>\n",
       "      <td>POINT (-21.2 13.4)</td>\n",
       "    </tr>\n",
       "    <tr>\n",
       "      <th>6</th>\n",
       "      <td>08/31/2018 05:00</td>\n",
       "      <td>13.6</td>\n",
       "      <td>-21.4</td>\n",
       "      <td>35</td>\n",
       "      <td>1006</td>\n",
       "      <td>WNW at 12 MPH (285 deg)</td>\n",
       "      <td>Potential Tropical Cyclone</td>\n",
       "      <td>Six</td>\n",
       "      <td>POINT (-21.4 13.6)</td>\n",
       "    </tr>\n",
       "    <tr>\n",
       "      <th>7</th>\n",
       "      <td>08/31/2018 08:00</td>\n",
       "      <td>13.7</td>\n",
       "      <td>-21.8</td>\n",
       "      <td>35</td>\n",
       "      <td>1006</td>\n",
       "      <td>WNW at 12 MPH (285 deg)</td>\n",
       "      <td>Potential Tropical Cyclone</td>\n",
       "      <td>Six</td>\n",
       "      <td>POINT (-21.8 13.7)</td>\n",
       "    </tr>\n",
       "    <tr>\n",
       "      <th>8</th>\n",
       "      <td>08/31/2018 11:00</td>\n",
       "      <td>13.7</td>\n",
       "      <td>-22.7</td>\n",
       "      <td>35</td>\n",
       "      <td>1006</td>\n",
       "      <td>WNW at 13 MPH (285 deg)</td>\n",
       "      <td>Potential Tropical Cyclone</td>\n",
       "      <td>Six</td>\n",
       "      <td>POINT (-22.7 13.7)</td>\n",
       "    </tr>\n",
       "    <tr>\n",
       "      <th>9</th>\n",
       "      <td>08/31/2018 14:00</td>\n",
       "      <td>13.8</td>\n",
       "      <td>-23.3</td>\n",
       "      <td>35</td>\n",
       "      <td>1006</td>\n",
       "      <td>WNW at 13 MPH (285 deg)</td>\n",
       "      <td>Potential Tropical Cyclone</td>\n",
       "      <td>Six</td>\n",
       "      <td>POINT (-23.3 13.8)</td>\n",
       "    </tr>\n",
       "  </tbody>\n",
       "</table>\n",
       "</div>"
      ],
      "text/plain": [
       "               Date   Lat  Long  Wind  Pres                 Movement  \\\n",
       "0  08/30/2018 11:00  12.9 -18.4    30  1007    W at 12 MPH (280 deg)   \n",
       "1  08/30/2018 14:00  12.9 -19.0    30  1007    W at 12 MPH (280 deg)   \n",
       "2  08/30/2018 17:00  12.9 -19.4    30  1007     W at 9 MPH (280 deg)   \n",
       "3  08/30/2018 20:00  13.1 -20.4    30  1007    W at 11 MPH (280 deg)   \n",
       "4  08/30/2018 23:00  13.2 -20.9    35  1007    W at 13 MPH (280 deg)   \n",
       "5  08/31/2018 02:00  13.4 -21.2    35  1007    W at 13 MPH (280 deg)   \n",
       "6  08/31/2018 05:00  13.6 -21.4    35  1006  WNW at 12 MPH (285 deg)   \n",
       "7  08/31/2018 08:00  13.7 -21.8    35  1006  WNW at 12 MPH (285 deg)   \n",
       "8  08/31/2018 11:00  13.7 -22.7    35  1006  WNW at 13 MPH (285 deg)   \n",
       "9  08/31/2018 14:00  13.8 -23.3    35  1006  WNW at 13 MPH (285 deg)   \n",
       "\n",
       "                         Type Name         coordinates  \n",
       "0  Potential Tropical Cyclone  Six  POINT (-18.4 12.9)  \n",
       "1  Potential Tropical Cyclone  Six    POINT (-19 12.9)  \n",
       "2  Potential Tropical Cyclone  Six  POINT (-19.4 12.9)  \n",
       "3  Potential Tropical Cyclone  Six  POINT (-20.4 13.1)  \n",
       "4  Potential Tropical Cyclone  Six  POINT (-20.9 13.2)  \n",
       "5  Potential Tropical Cyclone  Six  POINT (-21.2 13.4)  \n",
       "6  Potential Tropical Cyclone  Six  POINT (-21.4 13.6)  \n",
       "7  Potential Tropical Cyclone  Six  POINT (-21.8 13.7)  \n",
       "8  Potential Tropical Cyclone  Six  POINT (-22.7 13.7)  \n",
       "9  Potential Tropical Cyclone  Six  POINT (-23.3 13.8)  "
      ]
     },
     "execution_count": 31,
     "metadata": {},
     "output_type": "execute_result"
    }
   ],
   "source": [
    "# Filtering from before the hurricane was named.\n",
    "florence[florence['Name']=='Six']"
   ]
  },
  {
   "cell_type": "code",
   "execution_count": 32,
   "metadata": {},
   "outputs": [
    {
     "data": {
      "text/plain": [
       "Name\n",
       "FLORENCE     6\n",
       "Florence    85\n",
       "SIX          4\n",
       "Six         10\n",
       "Name: Type, dtype: int64"
      ]
     },
     "execution_count": 32,
     "metadata": {},
     "output_type": "execute_result"
    }
   ],
   "source": [
    "# Groupping by name to see how many names it has in the data set:\n",
    "florence.groupby('Name').Type.count()"
   ]
  },
  {
   "cell_type": "code",
   "execution_count": 33,
   "metadata": {},
   "outputs": [
    {
     "name": "stdout",
     "output_type": "stream",
     "text": [
      "Mean wind speed of Hurricane Florence is 74.4286 mph and it can go up to 140 mph maximum\n"
     ]
    }
   ],
   "source": [
    "print(\"Mean wind speed of Hurricane Florence is {} mph and it can go up to {} mph maximum\".format(round(florence.Wind.mean(),4),\n",
    "                                                                                         florence.Wind.max()))"
   ]
  },
  {
   "cell_type": "markdown",
   "metadata": {},
   "source": [
    "## Visualization"
   ]
  },
  {
   "cell_type": "code",
   "execution_count": 34,
   "metadata": {},
   "outputs": [
    {
     "data": {
      "image/png": "[encoded data removed]",
      "text/plain": [
       "<Figure size 1440x720 with 1 Axes>"
      ]
     },
     "metadata": {
      "needs_background": "light"
     },
     "output_type": "display_data"
    }
   ],
   "source": [
    "florence.plot(figsize=(20,10));"
   ]
  },
  {
   "cell_type": "markdown",
   "metadata": {},
   "source": [
    "What happened? All you can see is a bunch of points with no navigation. Is there anything wrong?\n",
    "No, it's all fine. Because this dataframe only have coordinates information (location) of hurricane Florence at each time point, we can only plot the position on a blank map."
   ]
  },
  {
   "cell_type": "markdown",
   "metadata": {},
   "source": []
  }
 ],
 "metadata": {
  "kernelspec": {
   "display_name": "Python 3",
   "language": "python",
   "name": "python3"
  },
  "language_info": {
   "codemirror_mode": {
    "name": "ipython",
    "version": 3
   },
   "file_extension": ".py",
   "mimetype": "text/x-python",
   "name": "python",
   "nbconvert_exporter": "python",
   "pygments_lexer": "ipython3",
   "version": "3.7.3"
  }
 },
 "nbformat": 4,
 "nbformat_minor": 2
}
